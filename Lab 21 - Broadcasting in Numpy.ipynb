{
 "cells": [
  {
   "cell_type": "markdown",
   "id": "3385662f",
   "metadata": {},
   "source": [
    "# Lab 21 - Broadcasting in Numpy"
   ]
  },
  {
   "cell_type": "code",
   "execution_count": 1,
   "id": "5b2f9044",
   "metadata": {},
   "outputs": [],
   "source": [
    "# 1. For a given problem you have numpy array of observation which is 1x3 vector and codes\n",
    "# which 3x3 matrix. Calculate difference between code and observation, take its sqaure and\n",
    "# calculate its sum across axis 1 and take square root of those results. \n",
    "\n",
    "#numpy array of observation\n",
    "import numpy as np\n",
    "\n",
    "#In a two-dimensional vector, the elements of axis 0 are rows and the elements of axis 1 are columns.\n",
    "\n",
    "observation = np.array([10, 5, 9])\n",
    "code = np.array([[24, 32, 25],\n",
    "                 [26, 27, 15],\n",
    "                 [13, 40, 37]])\n"
   ]
  },
  {
   "cell_type": "code",
   "execution_count": 3,
   "id": "e2e2b386",
   "metadata": {},
   "outputs": [
    {
     "name": "stdout",
     "output_type": "stream",
     "text": [
      "Observation Matrix:\n",
      " [10  5  9]\n",
      "\n",
      " Code Matrix:\n",
      " [[24 32 25]\n",
      " [26 27 15]\n",
      " [13 40 37]]\n"
     ]
    }
   ],
   "source": [
    "print(\"Observation Matrix:\\n\", observation)\n",
    "\n",
    "print(\"\\n Code Matrix:\\n\", code)\n"
   ]
  },
  {
   "cell_type": "code",
   "execution_count": 7,
   "id": "1c98fc42",
   "metadata": {},
   "outputs": [
    {
     "name": "stdout",
     "output_type": "stream",
     "text": [
      "\n",
      "Difference between code and observation:\n",
      " [[14 27 16]\n",
      " [16 22  6]\n",
      " [ 3 35 28]]\n"
     ]
    }
   ],
   "source": [
    "difference = code - observation\n",
    "print(\"\\nDifference between code and observation:\\n\", difference)"
   ]
  },
  {
   "cell_type": "code",
   "execution_count": 13,
   "id": "74b1c45a",
   "metadata": {},
   "outputs": [
    {
     "name": "stdout",
     "output_type": "stream",
     "text": [
      "\n",
      "Square of the Difference:\n",
      " [[ 196  729  256]\n",
      " [ 256  484   36]\n",
      " [   9 1225  784]]\n"
     ]
    }
   ],
   "source": [
    "squared_diff = difference ** 2\n",
    "print(\"\\nSquare of the Difference:\\n\", squared_diff)"
   ]
  },
  {
   "cell_type": "code",
   "execution_count": 14,
   "id": "454a763f",
   "metadata": {},
   "outputs": [
    {
     "name": "stdout",
     "output_type": "stream",
     "text": [
      "\n",
      "Sum of squared differences across axis 1:\n",
      " [1181  776 2018]\n"
     ]
    }
   ],
   "source": [
    "sum_squared_diff = np.sum(squared_diff, axis=1)\n",
    "print(\"\\nSum of squared differences across axis 1:\\n\", sum_squared_diff)"
   ]
  },
  {
   "cell_type": "code",
   "execution_count": 15,
   "id": "25588a13",
   "metadata": {},
   "outputs": [
    {
     "name": "stdout",
     "output_type": "stream",
     "text": [
      "\n",
      "Square Root of the Sum of Squared difference:\n",
      " [34.36568055 27.85677655 44.92215489]\n"
     ]
    }
   ],
   "source": [
    "output = np.sqrt(sum_squared_diff)\n",
    "\n",
    "print(\"\\nSquare Root of the Sum of Squared difference:\\n\", output)"
   ]
  },
  {
   "cell_type": "code",
   "execution_count": null,
   "id": "44304e6d",
   "metadata": {},
   "outputs": [],
   "source": [
    "   "
   ]
  }
 ],
 "metadata": {
  "kernelspec": {
   "display_name": "Python 3 (ipykernel)",
   "language": "python",
   "name": "python3"
  },
  "language_info": {
   "codemirror_mode": {
    "name": "ipython",
    "version": 3
   },
   "file_extension": ".py",
   "mimetype": "text/x-python",
   "name": "python",
   "nbconvert_exporter": "python",
   "pygments_lexer": "ipython3",
   "version": "3.11.3"
  }
 },
 "nbformat": 4,
 "nbformat_minor": 5
}
